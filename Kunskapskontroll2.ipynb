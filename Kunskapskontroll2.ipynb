{
 "cells": [
  {
   "cell_type": "code",
   "execution_count": 59,
   "id": "b3db5769",
   "metadata": {},
   "outputs": [
    {
     "name": "stdout",
     "output_type": "stream",
     "text": [
      "Requirement already satisfied: sqlalchemy in c:\\users\\mrtar\\anaconda3\\lib\\site-packages (2.0.37)\n",
      "Requirement already satisfied: typing-extensions>=4.6.0 in c:\\users\\mrtar\\anaconda3\\lib\\site-packages (from sqlalchemy) (4.12.2)\n",
      "Requirement already satisfied: greenlet!=0.4.17 in c:\\users\\mrtar\\anaconda3\\lib\\site-packages (from sqlalchemy) (2.0.1)\n",
      "Requirement already satisfied: pyodbc in c:\\users\\mrtar\\anaconda3\\lib\\site-packages (4.0.39)\n"
     ]
    }
   ],
   "source": [
    "!pip install sqlalchemy\n",
    "!pip install pyodbc\n"
   ]
  },
  {
   "cell_type": "code",
   "execution_count": 267,
   "id": "6207ecb0",
   "metadata": {},
   "outputs": [],
   "source": [
    "from sqlalchemy import create_engine, MetaData, Table, inspect, text\n",
    "import pandas as pd\n",
    "import logging\n",
    "import pytest"
   ]
  },
  {
   "cell_type": "code",
   "execution_count": 269,
   "id": "7950e6f0",
   "metadata": {},
   "outputs": [],
   "source": [
    "# configure logging\n",
    "logging.basicConfig(filename='py_log2.log', level=logging.ERROR,\n",
    "                   format='%(asctime)s - %(levelname)s - %(message)s')\n",
    "\n",
    "# create engine function\n",
    "def new_engine(dialect, server, database, user=None, password=None, integrated_security=True):\n",
    "    try:\n",
    "        if integrated_security:\n",
    "            # For Windows authentication:\n",
    "            eng = f\"{dialect}://{server}/{database}?trusted_connection=yes&driver=ODBC+Driver+17+for+SQL+Server\"\n",
    "        else:\n",
    "            eng = f\"{dialect}://{user}:{password}@{server}/{database}?driver=ODBC+Driver+17+for+SQL+Server\"\n",
    "        print(f'Connecting to: {eng}.')\n",
    "        return create_engine(eng)\n",
    "    except Exception as e:\n",
    "        logging.error(f'Database engine creation failed: {e}.')\n",
    "        raise # Re-raise exception\n"
   ]
  },
  {
   "cell_type": "code",
   "execution_count": 271,
   "id": "93be48ce",
   "metadata": {},
   "outputs": [
    {
     "name": "stdout",
     "output_type": "stream",
     "text": [
      "Connecting to: mssql://MARINA/ExampleDatabase?trusted_connection=yes&driver=ODBC+Driver+17+for+SQL+Server.\n",
      "Connection to database successfull.\n"
     ]
    }
   ],
   "source": [
    "# connect to SQL Server\n",
    "try:\n",
    "    engine = new_engine('mssql', 'MARINA', 'ExampleDatabase', integrated_security=True)\n",
    "    connection = engine.connect()\n",
    "    print('Connection to database successfull.')\n",
    "except Exception as e:\n",
    "    logging.error(f'Connection to database failed: {e}')\n",
    "    raise # stop if connection fails"
   ]
  },
  {
   "cell_type": "code",
   "execution_count": 273,
   "id": "a91605ff",
   "metadata": {},
   "outputs": [
    {
     "name": "stdout",
     "output_type": "stream",
     "text": [
      "            SSNO FirstName    LastName       City\n",
      "0  19560113-1313     Kalle    KARLSSON  Stockholm\n",
      "1  19920415-4534       Kim    ALFSTRÖM       None\n",
      "2  20030603-7834     Julia   JOHANSSON      Malmö\n",
      "3  20080107-3341     Sofia  EDVARDSSON   Göteborg\n"
     ]
    }
   ],
   "source": [
    "# read data from SQL Table\n",
    "TABLE_NAME = \"dbo.Customer\"\n",
    "\n",
    "try:\n",
    "    query = f'SELECT * FROM {TABLE_NAME}'\n",
    "    df = pd.read_sql(query, connection)\n",
    "    print(df.head())\n",
    "except Exception as e:\n",
    "    logging.error(f'Failed to read data: {e}')\n",
    "    raise\n"
   ]
  },
  {
   "cell_type": "code",
   "execution_count": null,
   "id": "e0bbb763-1961-4cf1-8d50-471f46328481",
   "metadata": {},
   "outputs": [],
   "source": []
  },
  {
   "cell_type": "code",
   "execution_count": 276,
   "id": "45f5b13a-2cfe-439e-8d4a-552c4780eb56",
   "metadata": {},
   "outputs": [
    {
     "name": "stdout",
     "output_type": "stream",
     "text": [
      "            SSNO    LastName\n",
      "0  19560113-1313    KARLSSON\n",
      "1  19920415-4534    ALFSTRÖM\n",
      "2  20030603-7834   JOHANSSON\n",
      "3  20080107-3341  EDVARDSSON\n"
     ]
    }
   ],
   "source": [
    "df[\"LastName\"] = df[\"LastName\"].str.upper()\n",
    "print(df[[\"SSNO\", \"LastName\"]].head())"
   ]
  },
  {
   "cell_type": "code",
   "execution_count": 278,
   "id": "89bc18d4",
   "metadata": {},
   "outputs": [
    {
     "name": "stdout",
     "output_type": "stream",
     "text": [
      "SQL table is updated!\n"
     ]
    }
   ],
   "source": [
    "try:\n",
    "    for index, row in df.iterrows():\n",
    "        query = text(\"\"\"\n",
    "        UPDATE dbo.Customer\n",
    "        SET LastName = :last_name\n",
    "        WHERE SSNO = :ssno\n",
    "        \"\"\")\n",
    "        connection.execute(query, {\"last_name\": row[\"LastName\"], \"ssno\": row[\"SSNO\"]})\n",
    "\n",
    "    connection.commit()\n",
    "    print(\"SQL table is updated!\")\n",
    "    \n",
    "except Exception as e:\n",
    "    logging.error(f'Failed to update SQL table: {e}')\n",
    "    raise\n",
    "\n",
    "connection.close()"
   ]
  },
  {
   "cell_type": "code",
   "execution_count": null,
   "id": "2f5a978c",
   "metadata": {},
   "outputs": [],
   "source": [
    "\n"
   ]
  },
  {
   "cell_type": "code",
   "execution_count": null,
   "id": "2f49bca7-c2b9-41f9-9a6a-dcfe85397bed",
   "metadata": {},
   "outputs": [],
   "source": []
  },
  {
   "cell_type": "code",
   "execution_count": 264,
   "id": "bfd6037e-fe2b-40a7-8f34-a347e5b0157a",
   "metadata": {},
   "outputs": [
    {
     "name": "stdout",
     "output_type": "stream",
     "text": [
      "\u001b[32m.\u001b[0m\u001b[32m.\u001b[0m\u001b[32m.\u001b[0m\u001b[32m                                                                      [100%]\u001b[0m\n",
      "\u001b[32m\u001b[32m\u001b[1m3 passed\u001b[0m\u001b[32m in 0.14s\u001b[0m\u001b[0m\n"
     ]
    },
    {
     "data": {
      "text/plain": [
       "<ExitCode.OK: 0>"
      ]
     },
     "execution_count": 264,
     "metadata": {},
     "output_type": "execute_result"
    }
   ],
   "source": [
    "# running the test script\n",
    "\n",
    "pytest.main([\"-q\", \"test_script.py\"])"
   ]
  },
  {
   "cell_type": "code",
   "execution_count": null,
   "id": "c674f1d0-4707-466f-b9d8-9b36649209a0",
   "metadata": {},
   "outputs": [],
   "source": []
  }
 ],
 "metadata": {
  "kernelspec": {
   "display_name": "Python [conda env:base] *",
   "language": "python",
   "name": "conda-base-py"
  },
  "language_info": {
   "codemirror_mode": {
    "name": "ipython",
    "version": 3
   },
   "file_extension": ".py",
   "mimetype": "text/x-python",
   "name": "python",
   "nbconvert_exporter": "python",
   "pygments_lexer": "ipython3",
   "version": "3.11.5"
  }
 },
 "nbformat": 4,
 "nbformat_minor": 5
}
